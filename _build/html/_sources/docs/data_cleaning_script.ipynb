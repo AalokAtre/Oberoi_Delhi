{
 "cells": [
  {
   "cell_type": "markdown",
   "metadata": {},
   "source": [
    "## Data Pre Processing And Cleaning"
   ]
  },
  {
   "cell_type": "markdown",
   "metadata": {},
   "source": [
    "Apart from customer reviews we have columns like 'Date Of Stay', 'Customer Rating', and 'Owner Responded'. This data is scrapped from the tripadvisor website as is and need some pre procesing / cleaning to be in a usable format"
   ]
  },
  {
   "cell_type": "code",
   "execution_count": 45,
   "metadata": {},
   "outputs": [],
   "source": [
    "import pandas as pd\n",
    "import numpy as np\n",
    "import re\n",
    "from datetime import datetime"
   ]
  },
  {
   "cell_type": "code",
   "execution_count": 46,
   "metadata": {},
   "outputs": [
    {
     "data": {
      "text/html": [
       "<div>\n",
       "<style scoped>\n",
       "    .dataframe tbody tr th:only-of-type {\n",
       "        vertical-align: middle;\n",
       "    }\n",
       "\n",
       "    .dataframe tbody tr th {\n",
       "        vertical-align: top;\n",
       "    }\n",
       "\n",
       "    .dataframe thead th {\n",
       "        text-align: right;\n",
       "    }\n",
       "</style>\n",
       "<table border=\"1\" class=\"dataframe\">\n",
       "  <thead>\n",
       "    <tr style=\"text-align: right;\">\n",
       "      <th></th>\n",
       "      <th>Customer Review</th>\n",
       "      <th>Date Of Stay</th>\n",
       "      <th>Customer Rating</th>\n",
       "      <th>Owner Responded</th>\n",
       "    </tr>\n",
       "  </thead>\n",
       "  <tbody>\n",
       "    <tr>\n",
       "      <th>0</th>\n",
       "      <td>Excellent and highly recommended!   We only sp...</td>\n",
       "      <td>Date of stay: November 2022</td>\n",
       "      <td>bubble_50</td>\n",
       "      <td>NaN</td>\n",
       "    </tr>\n",
       "    <tr>\n",
       "      <th>1</th>\n",
       "      <td>This was our favourite hotel whilst we visited...</td>\n",
       "      <td>Date of stay: August 2022</td>\n",
       "      <td>bubble_50</td>\n",
       "      <td>Dear Guest,  Thank you for choosing to stay wi...</td>\n",
       "    </tr>\n",
       "    <tr>\n",
       "      <th>2</th>\n",
       "      <td>We stayed 2 nights at the New Delhi Oberoi. Wh...</td>\n",
       "      <td>Date of stay: November 2022</td>\n",
       "      <td>bubble_50</td>\n",
       "      <td>NaN</td>\n",
       "    </tr>\n",
       "    <tr>\n",
       "      <th>3</th>\n",
       "      <td>The Very BEST!! Quality of service and food is...</td>\n",
       "      <td>Date of stay: December 2022</td>\n",
       "      <td>bubble_50</td>\n",
       "      <td>Dear Guest,   I am delighted you had a memorab...</td>\n",
       "    </tr>\n",
       "    <tr>\n",
       "      <th>4</th>\n",
       "      <td>The service , food, location, cleanliness is e...</td>\n",
       "      <td>Date of stay: December 2022</td>\n",
       "      <td>bubble_50</td>\n",
       "      <td>Dear Guest,   I am delighted you had a memorab...</td>\n",
       "    </tr>\n",
       "  </tbody>\n",
       "</table>\n",
       "</div>"
      ],
      "text/plain": [
       "                                     Customer Review  \\\n",
       "0  Excellent and highly recommended!   We only sp...   \n",
       "1  This was our favourite hotel whilst we visited...   \n",
       "2  We stayed 2 nights at the New Delhi Oberoi. Wh...   \n",
       "3  The Very BEST!! Quality of service and food is...   \n",
       "4  The service , food, location, cleanliness is e...   \n",
       "\n",
       "                  Date Of Stay Customer Rating  \\\n",
       "0  Date of stay: November 2022       bubble_50   \n",
       "1    Date of stay: August 2022       bubble_50   \n",
       "2  Date of stay: November 2022       bubble_50   \n",
       "3  Date of stay: December 2022       bubble_50   \n",
       "4  Date of stay: December 2022       bubble_50   \n",
       "\n",
       "                                     Owner Responded  \n",
       "0                                                NaN  \n",
       "1  Dear Guest,  Thank you for choosing to stay wi...  \n",
       "2                                                NaN  \n",
       "3  Dear Guest,   I am delighted you had a memorab...  \n",
       "4  Dear Guest,   I am delighted you had a memorab...  "
      ]
     },
     "execution_count": 46,
     "metadata": {},
     "output_type": "execute_result"
    }
   ],
   "source": [
    "df = pd.read_csv('../data/oberoi_delhi_reviews.csv')\n",
    "df.head()"
   ]
  },
  {
   "cell_type": "code",
   "execution_count": 47,
   "metadata": {},
   "outputs": [],
   "source": [
    "# Custom function to set trip type value\n",
    "def set_customer_rating(customer_rating) :\n",
    "  if (customer_rating is np.NAN) :\n",
    "    return\n",
    "  elif 'bubble_50' == customer_rating:\n",
    "    return 'Excellent'\n",
    "  elif 'bubble_40' == customer_rating:\n",
    "    return 'Very Good'\n",
    "  elif 'bubble_30' == customer_rating:\n",
    "    return 'Average'\n",
    "  elif 'bubble_20' == customer_rating:\n",
    "    return 'Poor'\n",
    "  elif 'bubble_10' == customer_rating:\n",
    "    return 'Terrible'"
   ]
  },
  {
   "cell_type": "code",
   "execution_count": 48,
   "metadata": {},
   "outputs": [],
   "source": [
    "df['Customer Rating'] = df['Customer Rating'].apply(set_customer_rating)"
   ]
  },
  {
   "cell_type": "code",
   "execution_count": 49,
   "metadata": {},
   "outputs": [],
   "source": [
    "# Set owner's response from collected date (Yes or No)\n",
    "def set_owners_response(owners_response) :\n",
    "  if (owners_response is np.NaN) :\n",
    "    return 'No'\n",
    "  else :\n",
    "    return 'Yes'"
   ]
  },
  {
   "cell_type": "code",
   "execution_count": 50,
   "metadata": {},
   "outputs": [],
   "source": [
    "df['Owner Responded'] = df['Owner Responded'].apply(set_owners_response)"
   ]
  },
  {
   "cell_type": "markdown",
   "metadata": {},
   "source": [
    "The extracted date is in the form of string. We will convert this string into date format, so that it becomes easier to perform EDA using this column"
   ]
  },
  {
   "cell_type": "code",
   "execution_count": 51,
   "metadata": {},
   "outputs": [],
   "source": [
    "# Extract date from string\n",
    "import datetime\n",
    "def set_review_date(date_string) :\n",
    "  if (date_string is np.NaN) :\n",
    "    return\n",
    "  else :\n",
    "    extracted_date = date_string.partition(': ')[2]\n",
    "    return datetime.datetime.strptime(extracted_date, '%B %Y').strftime('%m/%y')"
   ]
  },
  {
   "cell_type": "code",
   "execution_count": 52,
   "metadata": {},
   "outputs": [],
   "source": [
    "df['Date Of Stay'] = df['Date Of Stay'].apply(set_review_date)"
   ]
  },
  {
   "cell_type": "markdown",
   "metadata": {},
   "source": [
    "Write the cleaned data to a csv file. The output file will have reviews that are yet to be cleaned which will do further"
   ]
  },
  {
   "cell_type": "code",
   "execution_count": 53,
   "metadata": {},
   "outputs": [],
   "source": [
    "df.to_csv('../data/cleaned_data.csv', index = False)"
   ]
  },
  {
   "cell_type": "markdown",
   "metadata": {},
   "source": [
    "Check if there are any rows that have missing reviews"
   ]
  },
  {
   "cell_type": "code",
   "execution_count": 58,
   "metadata": {},
   "outputs": [
    {
     "data": {
      "text/plain": [
       "Customer Review    0\n",
       "Date Of Stay       3\n",
       "Customer Rating    0\n",
       "Owner Responded    0\n",
       "dtype: int64"
      ]
     },
     "execution_count": 58,
     "metadata": {},
     "output_type": "execute_result"
    }
   ],
   "source": [
    "data = pd.read_csv('../data/cleaned_data.csv')\n",
    "data.isnull().sum()"
   ]
  },
  {
   "cell_type": "code",
   "execution_count": null,
   "metadata": {},
   "outputs": [],
   "source": []
  }
 ],
 "metadata": {
  "kernelspec": {
   "display_name": "Python 3.9.2 64-bit ('3.9.2')",
   "language": "python",
   "name": "python3"
  },
  "language_info": {
   "codemirror_mode": {
    "name": "ipython",
    "version": 3
   },
   "file_extension": ".py",
   "mimetype": "text/x-python",
   "name": "python",
   "nbconvert_exporter": "python",
   "pygments_lexer": "ipython3",
   "version": "3.9.2"
  },
  "orig_nbformat": 4,
  "vscode": {
   "interpreter": {
    "hash": "b3026a12acffdc9f506c0823b05e249d31fb04335d3c4999ca8eadedea0b2708"
   }
  }
 },
 "nbformat": 4,
 "nbformat_minor": 2
}
