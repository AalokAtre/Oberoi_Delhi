{
 "cells": [
  {
   "cell_type": "markdown",
   "metadata": {},
   "source": [
    "## Web Scraping Review Data From Trip Advisor For Oberoi Delhi"
   ]
  },
  {
   "cell_type": "code",
   "execution_count": 16,
   "metadata": {},
   "outputs": [],
   "source": [
    "import requests\n",
    "from bs4 import BeautifulSoup\n",
    "import pandas as pd\n",
    "from tqdm import tqdm"
   ]
  },
  {
   "cell_type": "code",
   "execution_count": 2,
   "metadata": {},
   "outputs": [
    {
     "name": "stderr",
     "output_type": "stream",
     "text": [
      "/Users/aalokatre/.pyenv/versions/3.9.2/lib/python3.9/site-packages/urllib3/connectionpool.py:1045: InsecureRequestWarning: Unverified HTTPS request is being made to host 'www.tripadvisor.ca'. Adding certificate verification is strongly advised. See: https://urllib3.readthedocs.io/en/1.26.x/advanced-usage.html#ssl-warnings\n",
      "  warnings.warn(\n"
     ]
    },
    {
     "name": "stdout",
     "output_type": "stream",
     "text": [
      "200\n"
     ]
    }
   ],
   "source": [
    "# Set up requests for trip advisor\n",
    "headers = {\n",
    "        'Access-Control-Allow-Origin': '*',\n",
    "        'Access-Control-Allow-Methods': 'GET',\n",
    "        'Access-Control-Allow-Headers': 'Content-Type',\n",
    "        'accept': '*/*',\n",
    "        'accept-encoding': 'gzip, deflate',\n",
    "        'accept-language': 'en,mr;q=0.9',\n",
    "        'User-Agent': 'Mozilla/5.0 (Windows NT 10.0; Win64; x64) AppleWebKit/537.36 (KHTML, like Gecko) Chrome/95.0.4638.69 Safari/537.36'}\n",
    "\n",
    "url = \"https://www.tripadvisor.ca/Hotel_Review-g304551-d304216-Reviews-The_Oberoi_New_Delhi-New_Delhi_National_Capital_Territory_of_Delhi.html\"\n",
    "req = requests.get(url,headers=headers,timeout=5,verify=False)\n",
    "print (req.status_code)\n",
    "soup = BeautifulSoup(req.content, 'html.parser')"
   ]
  },
  {
   "cell_type": "code",
   "execution_count": 18,
   "metadata": {},
   "outputs": [
    {
     "name": "stderr",
     "output_type": "stream",
     "text": [
      "100%|██████████| 290/290 [08:39<00:00,  1.79s/it]\n"
     ]
    }
   ],
   "source": [
    "# Loop through review pages and create a list of list for reviews\n",
    "master_review_list = []\n",
    "# for complete review set 0, 2900, 10\n",
    "# for last page 2880, 2900, 10\n",
    "\n",
    "for x in tqdm(range(0, 2900, 10)):\n",
    "  url = \"https://www.tripadvisor.ca/Hotel_Review-g304551-d304216-Reviews-or\" + str(x) + \"-The_Oberoi_New_Delhi-New_Delhi_National_Capital_Territory_of_Delhi.html#REVIEWS\"\n",
    "  # url = \"https://www.tripadvisor.ca/Hotel_Review-g304551-d304216-Reviews-or2890-The_Oberoi_New_Delhi-New_Delhi_National_Capital_Territory_of_Delhi.html#REVIEWS\"\n",
    "  req = requests.get(url,headers=headers,timeout=5,verify=True)\n",
    "  soup = BeautifulSoup(req.content, 'html.parser')\n",
    "  for y in soup.body.find_all(class_=\"YibKl\"):\n",
    "    review_content = []\n",
    "    # Review content\n",
    "    if y.find(\"q\", {\"class\": \"QewHA\"}) :\n",
    "      review_content.append(y.select_one('q[class*=\"QewHA\"]').text)\n",
    "    else :\n",
    "      review_content.append(None)\n",
    "    # Trip type i.e. solo, family, couple, business - we will work with this if we have the time\n",
    "    # if y.find(\"span\", {\"class\": \"TDKzw\"}) :\n",
    "    #   review_content.append(y.select_one('span[class*=\"TDKzw\"]').text)\n",
    "    # else :\n",
    "    #   review_content.append(None)\n",
    "    # Date of stay\n",
    "    if y.find(\"span\", {\"class\": \"teHYY\"}) :\n",
    "      review_content.append(y.select_one('span[class*=\"teHYY\"]').text)\n",
    "    else :\n",
    "      review_content.append(None)\n",
    "    # Rating\n",
    "    if y.find(\"div\", {\"class\": \"Hlmiy F1\"}) :\n",
    "      review_content.append(y.find(\"div\", {\"class\": \"Hlmiy F1\"}).span['class'][1])\n",
    "    else :\n",
    "      review_content.append(None)\n",
    "    # Owner's response\n",
    "    if y.find(\"span\", {\"class\": \"MInAm\"}) :\n",
    "      review_content.append(y.select_one('span[class*=\"MInAm\"]').text)\n",
    "    else :\n",
    "      review_content.append(None)\n",
    "    master_review_list.append(review_content)"
   ]
  },
  {
   "cell_type": "code",
   "execution_count": 19,
   "metadata": {},
   "outputs": [],
   "source": [
    "# Convert list to a data frame\n",
    "reviews_df = pd.DataFrame(master_review_list, columns = ['Customer Review', 'Date Of Stay', 'Customer Rating', 'Owner Responded'])"
   ]
  },
  {
   "cell_type": "code",
   "execution_count": 20,
   "metadata": {},
   "outputs": [],
   "source": [
    "# Write scrapped data to csv file\n",
    "reviews_df.to_csv('../data/oberoi_delhi_reviews.csv', index = False)"
   ]
  }
 ],
 "metadata": {
  "kernelspec": {
   "display_name": "Python 3.9.2 64-bit ('3.9.2')",
   "language": "python",
   "name": "python3"
  },
  "language_info": {
   "codemirror_mode": {
    "name": "ipython",
    "version": 3
   },
   "file_extension": ".py",
   "mimetype": "text/x-python",
   "name": "python",
   "nbconvert_exporter": "python",
   "pygments_lexer": "ipython3",
   "version": "3.9.2"
  },
  "vscode": {
   "interpreter": {
    "hash": "b3026a12acffdc9f506c0823b05e249d31fb04335d3c4999ca8eadedea0b2708"
   }
  }
 },
 "nbformat": 4,
 "nbformat_minor": 2
}