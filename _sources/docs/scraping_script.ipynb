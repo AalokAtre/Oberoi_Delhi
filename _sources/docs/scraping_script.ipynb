{
 "cells": [
  {
   "cell_type": "markdown",
   "metadata": {},
   "source": [
    "# Scraping Review Data From TripAdvisor"
   ]
  },
  {
   "cell_type": "markdown",
   "metadata": {},
   "source": [
    "We will use the request and bs4 libraries to scrape reviews data from tripadvisor. TripAdvisor doesn't block repeated requests to their URL's unlike site like Yelp. As such there is no need to send authorization headers. We can make repeated calls to reviews page to extract reviews data without any IP blocking"
   ]
  },
  {
   "cell_type": "code",
   "execution_count": 2,
   "metadata": {},
   "outputs": [],
   "source": [
    "import requests\n",
    "from bs4 import BeautifulSoup\n",
    "import pandas as pd\n",
    "from tqdm import tqdm"
   ]
  },
  {
   "cell_type": "code",
   "execution_count": 3,
   "metadata": {},
   "outputs": [
    {
     "name": "stdout",
     "output_type": "stream",
     "text": [
      "200\n"
     ]
    }
   ],
   "source": [
    "headers = {\n",
    "        'Access-Control-Allow-Origin': '*',\n",
    "        'Access-Control-Allow-Methods': 'GET',\n",
    "        'Access-Control-Allow-Headers': 'Content-Type',\n",
    "        'accept': '*/*',\n",
    "        'accept-encoding': 'gzip, deflate',\n",
    "        'accept-language': 'en,mr;q=0.9',\n",
    "        'User-Agent': 'Mozilla/5.0 (Windows NT 10.0; Win64; x64) AppleWebKit/537.36 (KHTML, like Gecko) Chrome/95.0.4638.69 Safari/537.36'}\n",
    "\n",
    "url = \"https://www.tripadvisor.ca/Hotel_Review-g304551-d304216-Reviews-The_Oberoi_New_Delhi-New_Delhi_National_Capital_Territory_of_Delhi.html\"\n",
    "req = requests.get(url,headers=headers,timeout=5,verify=True)\n",
    "print (req.status_code)\n",
    "soup = BeautifulSoup(req.content, 'html.parser')"
   ]
  },
  {
   "cell_type": "markdown",
   "metadata": {},
   "source": [
    "Using TQDM library to check the current loop number during execution. This is especially helpful in case of timouts occuring during script execution. Based on loop number we can run the script from the page where timeout occured to get the remaining reviews. Classes for the review content are found by inspecting the elements. In future these classes may change"
   ]
  },
  {
   "cell_type": "code",
   "execution_count": 18,
   "metadata": {},
   "outputs": [
    {
     "name": "stderr",
     "output_type": "stream",
     "text": [
      "100%|██████████| 290/290 [08:39<00:00,  1.79s/it]\n"
     ]
    }
   ],
   "source": [
    "master_review_list = []\n",
    "\n",
    "for x in tqdm(range(0, 2900, 10)):\n",
    "  url = \"https://www.tripadvisor.ca/Hotel_Review-g304551-d304216-Reviews-or\" + str(x) + \"-The_Oberoi_New_Delhi-New_Delhi_National_Capital_Territory_of_Delhi.html#REVIEWS\"\n",
    "  req = requests.get(url,headers=headers,timeout=5,verify=True)\n",
    "  soup = BeautifulSoup(req.content, 'html.parser')\n",
    "  for y in soup.body.find_all(class_=\"YibKl\"):\n",
    "    review_content = []\n",
    "    # Review content\n",
    "    if y.find(\"q\", {\"class\": \"QewHA\"}) :\n",
    "      review_content.append(y.select_one('q[class*=\"QewHA\"]').text)\n",
    "    else :\n",
    "      review_content.append(None)\n",
    "    # Date of stay\n",
    "    if y.find(\"span\", {\"class\": \"teHYY\"}) :\n",
    "      review_content.append(y.select_one('span[class*=\"teHYY\"]').text)\n",
    "    else :\n",
    "      review_content.append(None)\n",
    "    # Rating\n",
    "    if y.find(\"div\", {\"class\": \"Hlmiy F1\"}) :\n",
    "      review_content.append(y.find(\"div\", {\"class\": \"Hlmiy F1\"}).span['class'][1])\n",
    "    else :\n",
    "      review_content.append(None)\n",
    "    # Owner's response\n",
    "    if y.find(\"span\", {\"class\": \"MInAm\"}) :\n",
    "      review_content.append(y.select_one('span[class*=\"MInAm\"]').text)\n",
    "    else :\n",
    "      review_content.append(None)\n",
    "    master_review_list.append(review_content)"
   ]
  },
  {
   "cell_type": "markdown",
   "metadata": {},
   "source": [
    "Obtained data is in list format. We will convert this to a dataframe so it becomes easier to write the data to CSV. We will use the pandas library for this."
   ]
  },
  {
   "cell_type": "code",
   "execution_count": 19,
   "metadata": {},
   "outputs": [],
   "source": [
    "reviews_df = pd.DataFrame(master_review_list, columns = ['Customer Review', 'Date Of Stay', 'Customer Rating', 'Owner Responded'])"
   ]
  },
  {
   "cell_type": "markdown",
   "metadata": {},
   "source": [
    "Writing the dataframe to a csv file in project structure. We will perform cleaning and preprocessing using the CSV file. This is done so that we do not overload the scraping script with logic and instead only focus on getting the data in raw format"
   ]
  },
  {
   "cell_type": "code",
   "execution_count": 20,
   "metadata": {},
   "outputs": [],
   "source": [
    "reviews_df.to_csv('../data/oberoi_delhi_reviews.csv', index = False)"
   ]
  }
 ],
 "metadata": {
  "kernelspec": {
   "display_name": "Python 3.9.2 64-bit ('3.9.2')",
   "language": "python",
   "name": "python3"
  },
  "language_info": {
   "codemirror_mode": {
    "name": "ipython",
    "version": 3
   },
   "file_extension": ".py",
   "mimetype": "text/x-python",
   "name": "python",
   "nbconvert_exporter": "python",
   "pygments_lexer": "ipython3",
   "version": "3.9.2"
  },
  "orig_nbformat": 4,
  "vscode": {
   "interpreter": {
    "hash": "b3026a12acffdc9f506c0823b05e249d31fb04335d3c4999ca8eadedea0b2708"
   }
  }
 },
 "nbformat": 4,
 "nbformat_minor": 2
}
