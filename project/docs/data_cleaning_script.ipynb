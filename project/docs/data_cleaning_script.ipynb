{
 "cells": [
  {
   "cell_type": "markdown",
   "metadata": {},
   "source": [
    "## Data Pre Processing And Cleaning"
   ]
  },
  {
   "cell_type": "markdown",
   "metadata": {},
   "source": [
    "Before cleaning reviews data, we need to pre process and clean other columns so that they can be used for EDA and sentiment analysis. We will use the CSV file that we scraped from trip advisor. Custom functions have been defined to handle each column in the dataset. You can find the explanation for each one above it definition block"
   ]
  },
  {
   "cell_type": "code",
   "execution_count": 28,
   "metadata": {},
   "outputs": [],
   "source": [
    "import pandas as pd\n",
    "import numpy as np\n",
    "import re\n",
    "from datetime import datetime"
   ]
  },
  {
   "cell_type": "code",
   "execution_count": 29,
   "metadata": {},
   "outputs": [
    {
     "data": {
      "text/html": [
       "<div>\n",
       "<style scoped>\n",
       "    .dataframe tbody tr th:only-of-type {\n",
       "        vertical-align: middle;\n",
       "    }\n",
       "\n",
       "    .dataframe tbody tr th {\n",
       "        vertical-align: top;\n",
       "    }\n",
       "\n",
       "    .dataframe thead th {\n",
       "        text-align: right;\n",
       "    }\n",
       "</style>\n",
       "<table border=\"1\" class=\"dataframe\">\n",
       "  <thead>\n",
       "    <tr style=\"text-align: right;\">\n",
       "      <th></th>\n",
       "      <th>Customer Review</th>\n",
       "      <th>Date Of Stay</th>\n",
       "      <th>Customer Rating</th>\n",
       "      <th>Owner Responded</th>\n",
       "    </tr>\n",
       "  </thead>\n",
       "  <tbody>\n",
       "    <tr>\n",
       "      <th>0</th>\n",
       "      <td>Excellent and highly recommended!   We only sp...</td>\n",
       "      <td>Date of stay: November 2022</td>\n",
       "      <td>bubble_50</td>\n",
       "      <td>NaN</td>\n",
       "    </tr>\n",
       "    <tr>\n",
       "      <th>1</th>\n",
       "      <td>This was our favourite hotel whilst we visited...</td>\n",
       "      <td>Date of stay: August 2022</td>\n",
       "      <td>bubble_50</td>\n",
       "      <td>Dear Guest,  Thank you for choosing to stay wi...</td>\n",
       "    </tr>\n",
       "    <tr>\n",
       "      <th>2</th>\n",
       "      <td>We stayed 2 nights at the New Delhi Oberoi. Wh...</td>\n",
       "      <td>Date of stay: November 2022</td>\n",
       "      <td>bubble_50</td>\n",
       "      <td>NaN</td>\n",
       "    </tr>\n",
       "    <tr>\n",
       "      <th>3</th>\n",
       "      <td>The Very BEST!! Quality of service and food is...</td>\n",
       "      <td>Date of stay: December 2022</td>\n",
       "      <td>bubble_50</td>\n",
       "      <td>Dear Guest,   I am delighted you had a memorab...</td>\n",
       "    </tr>\n",
       "    <tr>\n",
       "      <th>4</th>\n",
       "      <td>The service , food, location, cleanliness is e...</td>\n",
       "      <td>Date of stay: December 2022</td>\n",
       "      <td>bubble_50</td>\n",
       "      <td>Dear Guest,   I am delighted you had a memorab...</td>\n",
       "    </tr>\n",
       "  </tbody>\n",
       "</table>\n",
       "</div>"
      ],
      "text/plain": [
       "                                     Customer Review  \\\n",
       "0  Excellent and highly recommended!   We only sp...   \n",
       "1  This was our favourite hotel whilst we visited...   \n",
       "2  We stayed 2 nights at the New Delhi Oberoi. Wh...   \n",
       "3  The Very BEST!! Quality of service and food is...   \n",
       "4  The service , food, location, cleanliness is e...   \n",
       "\n",
       "                  Date Of Stay Customer Rating  \\\n",
       "0  Date of stay: November 2022       bubble_50   \n",
       "1    Date of stay: August 2022       bubble_50   \n",
       "2  Date of stay: November 2022       bubble_50   \n",
       "3  Date of stay: December 2022       bubble_50   \n",
       "4  Date of stay: December 2022       bubble_50   \n",
       "\n",
       "                                     Owner Responded  \n",
       "0                                                NaN  \n",
       "1  Dear Guest,  Thank you for choosing to stay wi...  \n",
       "2                                                NaN  \n",
       "3  Dear Guest,   I am delighted you had a memorab...  \n",
       "4  Dear Guest,   I am delighted you had a memorab...  "
      ]
     },
     "execution_count": 29,
     "metadata": {},
     "output_type": "execute_result"
    }
   ],
   "source": [
    "df = pd.read_csv('../data/oberoi_delhi_reviews.csv')\n",
    "df.head()"
   ]
  },
  {
   "cell_type": "markdown",
   "metadata": {},
   "source": [
    "Customer rating is in the form of a css class in the HTML. For e.g bubble_50 means the user has given a 5 star rating to the property. TripAdvisor doesn't have ratings in decimals (like 4.5 or 3.5). Using the class value we will set the review rating into 5 categories ('Excellent', 'Very Good', 'Average', 'Poor', 'Terrible') as defined by TripAdvisor."
   ]
  },
  {
   "cell_type": "code",
   "execution_count": 30,
   "metadata": {},
   "outputs": [],
   "source": [
    "# Custom function to set trip type value\n",
    "def set_customer_rating(customer_rating) :\n",
    "  if (customer_rating is np.NAN) :\n",
    "    return\n",
    "  elif 'bubble_50' == customer_rating:\n",
    "    return 'Excellent'\n",
    "  elif 'bubble_40' == customer_rating:\n",
    "    return 'Very Good'\n",
    "  elif 'bubble_30' == customer_rating:\n",
    "    return 'Average'\n",
    "  elif 'bubble_20' == customer_rating:\n",
    "    return 'Poor'\n",
    "  elif 'bubble_10' == customer_rating:\n",
    "    return 'Terrible'"
   ]
  },
  {
   "cell_type": "code",
   "execution_count": 31,
   "metadata": {},
   "outputs": [],
   "source": [
    "df['Customer Rating'] = df['Customer Rating'].apply(set_customer_rating)"
   ]
  },
  {
   "cell_type": "markdown",
   "metadata": {},
   "source": [
    "Owner's Response column is where we set whether the owner has responded to a particular review or not. Almost all the responses are boiler plater templated responses, as such the content of these responses have very little value to us. Hence we will just check whether the owner (i.e Oberoi Delhi) has or has not responded to a particular reivew"
   ]
  },
  {
   "cell_type": "code",
   "execution_count": 32,
   "metadata": {},
   "outputs": [],
   "source": [
    "# Set owner's response from collected date (Yes or No)\n",
    "def set_owners_response(owners_response) :\n",
    "  if (owners_response is np.NaN) :\n",
    "    return False\n",
    "  else :\n",
    "    return True"
   ]
  },
  {
   "cell_type": "code",
   "execution_count": 33,
   "metadata": {},
   "outputs": [],
   "source": [
    "df['Owner Responded'] = df['Owner Responded'].apply(set_owners_response)"
   ]
  },
  {
   "cell_type": "markdown",
   "metadata": {},
   "source": [
    "Finally we will set the date object from the string that is scraped. This is especially useful information for performing EDA on the reviews"
   ]
  },
  {
   "cell_type": "code",
   "execution_count": 34,
   "metadata": {},
   "outputs": [],
   "source": [
    "# Extract date from string\n",
    "import datetime\n",
    "def set_review_date(date_string) :\n",
    "  if (date_string is np.NaN) :\n",
    "    return np.NaN\n",
    "  else :\n",
    "    extracted_date = date_string.partition(': ')[2]\n",
    "    return datetime.datetime.strptime(extracted_date, '%B %Y').strftime('%m/%y')"
   ]
  },
  {
   "cell_type": "code",
   "execution_count": 35,
   "metadata": {},
   "outputs": [],
   "source": [
    "df['Date Of Stay'] = df['Date Of Stay'].apply(set_review_date)"
   ]
  },
  {
   "cell_type": "markdown",
   "metadata": {},
   "source": [
    "Finally, we set the cleaned data to a CSV file. Note we have not yet performed any cleaning operation on the reviews themselves. This would the next step of our analysis"
   ]
  },
  {
   "cell_type": "code",
   "execution_count": 36,
   "metadata": {},
   "outputs": [],
   "source": [
    "df.to_csv('../data/cleaned_data.csv', index = False)"
   ]
  },
  {
   "cell_type": "markdown",
   "metadata": {},
   "source": [
    "Check for missing value....!"
   ]
  },
  {
   "cell_type": "code",
   "execution_count": 38,
   "metadata": {},
   "outputs": [
    {
     "data": {
      "text/plain": [
       "Customer Review    0\n",
       "Date Of Stay       3\n",
       "Customer Rating    0\n",
       "Owner Responded    0\n",
       "dtype: int64"
      ]
     },
     "execution_count": 38,
     "metadata": {},
     "output_type": "execute_result"
    }
   ],
   "source": [
    "data = pd.read_csv('../data/cleaned_data.csv')\n",
    "data.isnull().sum()"
   ]
  },
  {
   "cell_type": "markdown",
   "metadata": {},
   "source": [
    "We find that three reviews don't have date of stay attached to them. While we could remove these, it will result in loss of some information. As topic modelling and sentiment analysis are our primary objectives for this excercise we will let these reviews stay as they are."
   ]
  },
  {
   "cell_type": "markdown",
   "metadata": {},
   "source": []
  }
 ],
 "metadata": {
  "kernelspec": {
   "display_name": "Python 3.9.2 64-bit ('3.9.2')",
   "language": "python",
   "name": "python3"
  },
  "language_info": {
   "codemirror_mode": {
    "name": "ipython",
    "version": 3
   },
   "file_extension": ".py",
   "mimetype": "text/x-python",
   "name": "python",
   "nbconvert_exporter": "python",
   "pygments_lexer": "ipython3",
   "version": "3.9.2"
  },
  "orig_nbformat": 4,
  "vscode": {
   "interpreter": {
    "hash": "b3026a12acffdc9f506c0823b05e249d31fb04335d3c4999ca8eadedea0b2708"
   }
  }
 },
 "nbformat": 4,
 "nbformat_minor": 2
}
